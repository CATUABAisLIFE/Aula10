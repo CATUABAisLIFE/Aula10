{
 "cells": [
  {
   "cell_type": "code",
   "execution_count": 1,
   "metadata": {},
   "outputs": [],
   "source": [
    "import numpy as np \n",
    "\n",
    "def pivotamento(A):\n",
    "    U = np.copy(A)\n",
    "    L = np.identity(np.shape(U)[0])\n",
    "    n  = np.shape(U)[0] -1\n",
    "    if (np.linalg.det(U) != 0):\n",
    "        for k in np.arange(0, n):\n",
    "            if (U[k][k] == 0):\n",
    "                print(\"ERRO 1\")\n",
    "                return\n",
    "            if (U[k + 1][k] == 0):\n",
    "                continue\n",
    "            else:\n",
    "                for i in np.arange(k + 1, n + 1):\n",
    "                    m = U[i, k] / U[k, k]\n",
    "                    L[i, k] = m\n",
    "                    U[i, k] = 0\n",
    "                    for j in np.arange(k + 1, n + 1):\n",
    "                        U[i, j] -= m * U[k, j]\n",
    "                        \n",
    "\n",
    "        return U, L\n",
    "    else:\n",
    "        print(\"ERRO\")\n",
    "        return"
   ]
  },
  {
   "cell_type": "code",
   "execution_count": 2,
   "metadata": {},
   "outputs": [],
   "source": [
    "def soluçao(a, b):\n",
    "    s = 0\n",
    "    n = len(a)\n",
    "    x = np.zeros(3)\n",
    "    for k in range(n - 1, -1, -1):\n",
    "        s = 0\n",
    "        for j in range(k + 1, n, 1):\n",
    "            s = s + a[k][j] * x[j]\n",
    "        x[k] = (b[k] - s) / a[k][k]\n",
    "    return x"
   ]
  },
  {
   "cell_type": "code",
   "execution_count": 3,
   "metadata": {},
   "outputs": [],
   "source": [
    "def solu(a, b):\n",
    "    s = 0\n",
    "    n = len(a)\n",
    "    x = np.zeros(3)\n",
    "    for k in range(-1, n-1):\n",
    "        s = 0\n",
    "        for j in range(n, k+1):\n",
    "            s = s + a[k][j] * x[j]\n",
    "        x[k] = (b[k] - s) / a[k][k]\n",
    "    return x"
   ]
  },
  {
   "cell_type": "code",
   "execution_count": 7,
   "metadata": {},
   "outputs": [
    {
     "name": "stdout",
     "output_type": "stream",
     "text": [
      "é zero\n",
      "[ 1.00000000e+00  1.66666667e+00 -2.22044605e-16]\n",
      "[-3.  5. -0.]\n"
     ]
    }
   ],
   "source": [
    "A = np.array([[3.,2.,4.],[1.,1.,2.],[4.,3.,2.]])\n",
    "b = np.array([1,5/3,0])\n",
    "\n",
    "b2 = np.array([1,2,3])\n",
    "U,L = pivotamento(A);\n",
    "\n",
    "\n",
    "y=np.linalg.solve(L,b2)\n",
    "x=np.linalg.solve(U,b)\n",
    "if (x[2]==0):\n",
    "    print(\"é zero\")\n",
    "print(y)\n",
    "print(x)\n",
    "\n"
   ]
  },
  {
   "cell_type": "code",
   "execution_count": null,
   "metadata": {},
   "outputs": [],
   "source": []
  },
  {
   "cell_type": "code",
   "execution_count": null,
   "metadata": {},
   "outputs": [],
   "source": []
  },
  {
   "cell_type": "code",
   "execution_count": null,
   "metadata": {},
   "outputs": [],
   "source": []
  }
 ],
 "metadata": {
  "kernelspec": {
   "display_name": "Python 3",
   "language": "python",
   "name": "python3"
  },
  "language_info": {
   "codemirror_mode": {
    "name": "ipython",
    "version": 3
   },
   "file_extension": ".py",
   "mimetype": "text/x-python",
   "name": "python",
   "nbconvert_exporter": "python",
   "pygments_lexer": "ipython3",
   "version": "3.6.7"
  }
 },
 "nbformat": 4,
 "nbformat_minor": 2
}
