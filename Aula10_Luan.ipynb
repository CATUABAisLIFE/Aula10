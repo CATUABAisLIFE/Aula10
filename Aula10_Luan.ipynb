{
 "cells": [
  {
   "cell_type": "code",
   "execution_count": 74,
   "metadata": {},
   "outputs": [
    {
     "name": "stdout",
     "output_type": "stream",
     "text": [
      "original: \n",
      " [[3 2 4]\n",
      " [1 1 2]\n",
      " [4 3 2]] \n",
      "\n",
      "\n",
      "[[ 1.          0.          0.        ]\n",
      " [-0.33333333  1.          0.        ]\n",
      " [-1.33333333  0.          1.        ]] \n",
      "\n",
      "\n",
      "primeiro prod: \n",
      " [[ 3.          2.          4.        ]\n",
      " [ 0.          0.33333333  0.66666667]\n",
      " [ 0.          0.33333333 -3.33333333]] \n",
      "\n",
      "\n",
      "[[ 1.  0.  0.]\n",
      " [ 0.  1.  0.]\n",
      " [ 0. -1.  1.]] \n",
      "\n",
      "\n",
      "segundo prod: \n",
      " [[ 3.         -2.          4.        ]\n",
      " [ 0.         -0.33333333  0.66666667]\n",
      " [ 0.          3.66666667 -3.33333333]] \n",
      "\n",
      "\n",
      "[[ 1.00000000e+00  1.66666667e+00 -4.44089210e-16]]\n"
     ]
    }
   ],
   "source": [
    "import numpy as np\n",
    "import math\n",
    "A = np.matrix([[3,2,4],[1,1,2],[4,3,2]])\n",
    "\n",
    "\n",
    "print(\"original: \\n\",A,\"\\n\\n\")\n",
    "det = np.linalg.det\n",
    "      \n",
    "if det == 0:\n",
    "    print(\"Det=0, ERRO\")\n",
    "else:\n",
    "      \n",
    "    m21 = A[2-1,1-1]/A[1-1,1-1]\n",
    "    m31 = A[3-1,1-1]/A[1-1,1-1]\n",
    "    m32 = A[3-1,2-1]/A[2-1,2-1]\n",
    "      \n",
    "M = np.matrix([[1,0,0],[-m21,1,0],[-m31,0,1]])\n",
    "print(M, \"\\n\\n\")\n",
    "N = M*A\n",
    "print(\"primeiro prod: \\n\",N,\"\\n\\n\")     \n",
    "\n",
    "if det == 0:\n",
    "    print(\"Det=0, ERRO\")\n",
    "else:\n",
    "   \n",
    "    m32 = N[3-1,2-1]/N[2-1,2-1]\n",
    "      \n",
    "G = np.matrix([[1,0,0],[0,1,0],[0,-m32,1]])\n",
    "print(G,\"\\n\\n\")\n",
    "\n",
    "print(\"segundo prod: \\n\",(N*G),\"\\n\\n\")\n",
    "\n",
    "b = np.array([1,2,3],dtype = \"float\")\n",
    "\n",
    "b1 = np.dot(M,b)\n",
    "b1 = np.squeeze(np.asarray(b1))\n",
    "b2 = np.matmul(G,b1)\n",
    "print(b2)"
   ]
  }
 ],
 "metadata": {
  "kernelspec": {
   "display_name": "Python 3",
   "language": "python",
   "name": "python3"
  },
  "language_info": {
   "codemirror_mode": {
    "name": "ipython",
    "version": 3
   },
   "file_extension": ".py",
   "mimetype": "text/x-python",
   "name": "python",
   "nbconvert_exporter": "python",
   "pygments_lexer": "ipython3",
   "version": "3.6.7"
  }
 },
 "nbformat": 4,
 "nbformat_minor": 2
}
